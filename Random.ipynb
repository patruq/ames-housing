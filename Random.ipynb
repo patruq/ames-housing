{
 "cells": [
  {
   "cell_type": "markdown",
   "metadata": {},
   "source": [
    "## R2 Score:\n",
    "\n",
    "***Based on our features, we can account for 78% of the variation in our target 'y'.***"
   ]
  },
  {
   "cell_type": "code",
   "execution_count": 91,
   "metadata": {},
   "outputs": [
    {
     "data": {
      "text/plain": [
       "0.7861595165213807"
      ]
     },
     "execution_count": 91,
     "metadata": {},
     "output_type": "execute_result"
    }
   ],
   "source": [
    "lr.score(X, y)"
   ]
  },
  {
   "cell_type": "markdown",
   "metadata": {},
   "source": [
    "- 'pickles', like a zip file for the notebook\n",
    "- to_pickle"
   ]
  },
  {
   "cell_type": "code",
   "execution_count": 116,
   "metadata": {},
   "outputs": [],
   "source": [
    "# X_train, X_test, y_train, y_test = train_test_split(X, y, random_state=42)"
   ]
  },
  {
   "cell_type": "markdown",
   "metadata": {},
   "source": [
    "# Random / Old"
   ]
  },
  {
   "cell_type": "markdown",
   "metadata": {},
   "source": [
    "***Cross Validation:***"
   ]
  },
  {
   "cell_type": "code",
   "execution_count": 119,
   "metadata": {},
   "outputs": [],
   "source": [
    "# lr_scores = cross_val_score(lr, X_train, y_train, cv=5)"
   ]
  },
  {
   "cell_type": "markdown",
   "metadata": {},
   "source": [
    "### Fit the Model:"
   ]
  },
  {
   "cell_type": "code",
   "execution_count": 120,
   "metadata": {},
   "outputs": [
    {
     "data": {
      "text/plain": [
       "LinearRegression(copy_X=True, fit_intercept=True, n_jobs=None, normalize=False)"
      ]
     },
     "execution_count": 120,
     "metadata": {},
     "output_type": "execute_result"
    }
   ],
   "source": [
    "# lr.fit(X_train, y_train)"
   ]
  },
  {
   "cell_type": "markdown",
   "metadata": {},
   "source": [
    "### Evaluate the Model:"
   ]
  },
  {
   "cell_type": "code",
   "execution_count": 122,
   "metadata": {},
   "outputs": [
    {
     "data": {
      "text/plain": [
       "0.7804117476570361"
      ]
     },
     "execution_count": 122,
     "metadata": {},
     "output_type": "execute_result"
    }
   ],
   "source": [
    "# Train score\n",
    "# lr.score(X_train, y_train)"
   ]
  },
  {
   "cell_type": "code",
   "execution_count": 123,
   "metadata": {},
   "outputs": [
    {
     "data": {
      "text/plain": [
       "0.8106925065138088"
      ]
     },
     "execution_count": 123,
     "metadata": {},
     "output_type": "execute_result"
    }
   ],
   "source": [
    "# Test score\n",
    "# lr.score(X_test, y_test)"
   ]
  },
  {
   "cell_type": "code",
   "execution_count": 125,
   "metadata": {},
   "outputs": [
    {
     "data": {
      "text/plain": [
       "0.7470731085001685"
      ]
     },
     "execution_count": 125,
     "metadata": {},
     "output_type": "execute_result"
    }
   ],
   "source": [
    "# Cross val score\n",
    "# cross_val_score(lr, X_train, y_train, cv=5).mean()"
   ]
  },
  {
   "cell_type": "markdown",
   "metadata": {},
   "source": [
    "### Model Errors"
   ]
  },
  {
   "cell_type": "code",
   "execution_count": 126,
   "metadata": {},
   "outputs": [],
   "source": [
    "# preds = lr.predict(X_test)"
   ]
  },
  {
   "cell_type": "code",
   "execution_count": 127,
   "metadata": {},
   "outputs": [],
   "source": [
    "# resids = y_test - preds"
   ]
  },
  {
   "cell_type": "code",
   "execution_count": 135,
   "metadata": {},
   "outputs": [
    {
     "data": {
      "image/png": "[encoded data removed]",
      "text/plain": [
       "<Figure size 432x288 with 1 Axes>"
      ]
     },
     "metadata": {
      "needs_background": "light"
     },
     "output_type": "display_data"
    }
   ],
   "source": [
    "# plt.hist(resids, color=\"red\");"
   ]
  },
  {
   "cell_type": "code",
   "execution_count": 131,
   "metadata": {},
   "outputs": [
    {
     "data": {
      "image/png": "[encoded data removed]",
      "text/plain": [
       "<Figure size 432x288 with 1 Axes>"
      ]
     },
     "metadata": {
      "needs_background": "light"
     },
     "output_type": "display_data"
    }
   ],
   "source": [
    "# y_test.hist();  # Right skew"
   ]
  },
  {
   "cell_type": "code",
   "execution_count": 1,
   "metadata": {},
   "outputs": [],
   "source": [
    "# np.log(y_test).hist();  # More norm dist"
   ]
  },
  {
   "cell_type": "markdown",
   "metadata": {},
   "source": [
    "***Train/Test Split***"
   ]
  },
  {
   "cell_type": "code",
   "execution_count": 1,
   "metadata": {},
   "outputs": [
    {
     "ename": "SyntaxError",
     "evalue": "invalid syntax (<ipython-input-1-08939121f207>, line 3)",
     "output_type": "error",
     "traceback": [
      "\u001b[0;36m  File \u001b[0;32m\"<ipython-input-1-08939121f207>\"\u001b[0;36m, line \u001b[0;32m3\u001b[0m\n\u001b[0;31m    ***Based on our features, we can account for 78% of the variation in our target 'y'.***\u001b[0m\n\u001b[0m     ^\u001b[0m\n\u001b[0;31mSyntaxError\u001b[0m\u001b[0;31m:\u001b[0m invalid syntax\n"
     ]
    }
   ],
   "source": [
    "## R2 Score:\n",
    "\n",
    "***Based on our features, we can account for 78% of the variation in our target 'y'.***\n",
    "\n",
    "lr.score(X, y)\n",
    "\n",
    "- 'pickles', like a zip file for the notebook\n",
    "- to_pickle\n",
    "\n",
    "# X_train, X_test, y_train, y_test = train_test_split(X, y, random_state=42)\n",
    "\n",
    "# Random / Old\n",
    "\n",
    "***Cross Validation:***\n",
    "\n",
    "# lr_scores = cross_val_score(lr, X_train, y_train, cv=5)\n",
    "\n",
    "### Fit the Model:\n",
    "\n",
    "# lr.fit(X_train, y_train)\n",
    "\n",
    "### Evaluate the Model:\n",
    "\n",
    "# Train score\n",
    "# lr.score(X_train, y_train)\n",
    "\n",
    "# Test score\n",
    "# lr.score(X_test, y_test)\n",
    "\n",
    "# Cross val score\n",
    "# cross_val_score(lr, X_train, y_train, cv=5).mean()\n",
    "\n",
    "### Model Errors\n",
    "\n",
    "# preds = lr.predict(X_test)\n",
    "\n",
    "# resids = y_test - preds\n",
    "\n",
    "# plt.hist(resids, color=\"red\");\n",
    "\n",
    "# y_test.hist();  # Right skew\n",
    "\n",
    "# np.log(y_test).hist();  # More norm dist"
   ]
  },
  {
   "cell_type": "code",
   "execution_count": null,
   "metadata": {},
   "outputs": [],
   "source": [
    "# Random / Old\n",
    "\n",
    "# Notes (Prior to cleaning):\n",
    "\n",
    "### Differences between the sets:\n",
    "\n",
    "- The test contains 1 less column than train: test does not contain \"SalePrice\"\n",
    "    - The \"SalesPrice\" column contains all <b><i>\"except for the target that we are trying to predict in our Regression model.\"</i></b>\n",
    "- ~~The column names in both sets will need to be reformatted, to make them easier to work with.~~\n",
    "    - <b>A function can be used to iterate through and automate necessary changes.</b>\n",
    "- What are the missing values?\n",
    "    - How many values should each col contain, including na?\n",
    "        - <b>Train: 2051 rows\n",
    "        - Test: 878 rows</b>\n",
    "    - What cols have missing values?\n",
    "        - <b>Train: there are 26 cols with NaN\n",
    "        - Test: there are 19 cols with NaN</b>\n",
    "    - What do these missing values mean?\n",
    "        - <b>Missing values in some cols will mean an amenity or feature is not present at that particular parcel (i.e. does not have a pool, or garage, or fireplace, etc).\n",
    "        - For the BSMT sq foot cols, NaN could be problematic. Does this unit not have a basement?\n",
    "        - Could just lump these metrics all in together, as \"has basement or not\"</b>\n",
    "- Variable types info (available via the \"data description\":\n",
    "    - <b>Nominal: Named, categorical\n",
    "        - nominal vars do not contribute to the LR (check in objects or not)\n",
    "    - Ordinal: named, ranked\n",
    "    - Discrete: dates, # full/half bathrooms, # bedrooms, # kitchens, # rooms \n",
    "    - Continuous: size (sq footage), $ value of misc. feature, SALE PRICE</b>\n",
    "- Identify Outliers:\n",
    "    - <b>Approach: (Could use a function for this)\n",
    "        - Find 50, 25, and 75%'s for dataset\n",
    "        - Anything < 1.5 * the IQR under Q1, or\n",
    "        - Anything > 1.5 * the IQR above Q3</b>\n",
    "- Age of house?\n",
    "\n",
    "### Train Data:\n",
    "- Lot area is continuous, == the size. Float would be better suited for this\n",
    "- Dummies?:\n",
    "    - MS Zoning\n",
    "    - Street\n",
    "    - Alley\n",
    "    - Conditions 1 and 2\n",
    "- NaN:\n",
    "    - Alley type NaN can be converted to NA, as per the data doc\n",
    "\n",
    "### Convert Col type:\n",
    "\n",
    "# Change lot area to type float\n",
    "# def col_to_float(df, col):\n",
    "#     return df[col].astype(\"float\")\n",
    "# train_df[\"lot_area\"] = col_to_float(train_df, \"lot_area\")\n",
    "\n",
    "# Change bsmt_full_bath to int, its discrete\n",
    "# def col_to_int(df, col):\n",
    "#     return df[col].astype(\"int\")\n",
    "# train_df[\"bsmt_full_bath\"] = col_to_int(train_df, \"bsmt_full_bath\")\n",
    "\n",
    "# def col_to_str(df, col):\n",
    "#     return df[col].astype(\"object\")\n",
    "# train_df[\"ms_subclass\"] = col_to_str(train_df, \"bsmt_full_bath\")\n",
    "\n",
    "***fence***\n",
    "\n",
    "# 400 non-null, NO NA listed in values_count\n",
    "# add 0/ NA value?\n",
    "# train_df[\"fence\"].fillna(\"NA\", inplace=True)\n",
    "# train_df[\"fence\"].value_counts()\n",
    "\n",
    "***bsmt baths***\n",
    "- Cannot tell if the nan rows should be zeroed or not...will be dropped.\n",
    "\n",
    "# train_df[\"bsmt_full_bath\"].isna().sum()\n",
    "# train_df[\"bsmt_full_bath\"].value_counts()\n",
    "# train_df[\"bsmt_half_bath\"].isna().sum()\n",
    "# train_df[\"bsmt_half_bath\"].value_counts()\n",
    "# # train_df[\"bsmt_full_bath\"].dropna(inplace=True)\n",
    "# train_df.dropna(axis=0, subset=[\"bsmt_full_bath\"], inplace=True)\n",
    "# # train_df[\"bsmt_half_bath\"].dropna(inplace=True)\n",
    "# train_df.dropna(axis=0, subset=[\"bsmt_full_bath\"], inplace=True)\n",
    "\n",
    "***fireplace***\n",
    "\n",
    "# If the number of units with 0 fireplaces == the number of nans in the fireplace_qu col, change to \"NA\"\n",
    "# train_df[\"fireplace_qu\"].fillna(\"NA\", inplace=True)\n",
    "# train_df[\"fireplace_qu\"].isna().sum()\n",
    "\n",
    "***alley***\n",
    "\n",
    "# Fix alley col\n",
    "# No NA values listed, although supposed to be in the value counts\n",
    "# train_df[\"alley\"].fillna(\"NA\", inplace=True)\n",
    "\n",
    "# train_df[\"alley\"].unique()\n",
    "\n",
    "***lot_frontage***\n",
    "\n",
    "# train_df.loc[train_df[\"lot_frontage\"].isna()]  # <-- No linear feet of street connected to property?\n",
    "# This could maybe just be == 0? The other lot metrics have no NaN values.\n",
    "\n",
    "# May need to drop these, instead.\n",
    "# train_df[\"lot_frontage\"].dropna(inplace=True)\n",
    "# train_df.dropna(axis=0, subset=[\"lot_frontage\"], inplace=True)\n",
    "\n",
    "***mas_vr_type***\n",
    "\n",
    "# The NaN could be equal to the Cinder Block type.\n",
    "# Not much of anything to back this up though.\n",
    "# Both are missing 22 values. Even if Type is changed to CBlock,\n",
    "# no way of knowing the values for the area. Best to not to change value\n",
    "\n",
    "# train_df.dropna(axis=0, subset=[\"mas_vnr_type\"], inplace=True)\n",
    "# train_df.dropna(axis=0, subset=[\"mas_vnr_area\"], inplace=True)\n",
    "\n",
    "# train_df[\"mas_vnr_type\"].isna().sum()\n",
    "\n",
    "***pool cols***\n",
    "\n",
    "- All nan in pool_qc corresponding to NA pool in pool_area, where pool_area was size 0.\n",
    "\n",
    "# print(train_df[\"pool_area\"].value_counts())\n",
    "# print(train_df[\"pool_qc\"].value_counts())\n",
    "\n",
    "# train_df[\"pool_qc\"].fillna(\"NA\", inplace=True)\n",
    "# train_df[\"pool_qc\"].isna().sum()\n",
    "\n",
    "***misc cols***\n",
    "\n",
    "# # Total $0 misc values\n",
    "# train_df[\"misc_val\"].value_counts()\n",
    "\n",
    "# # Number of nan in this col is equal to 0 above, can convert to type na\n",
    "# train_df[\"misc_feature\"].isna().sum()\n",
    "\n",
    "# train_df[\"misc_feature\"].unique()\n",
    "\n",
    "# train_df[\"misc_feature\"].fillna(\"NA\", inplace=True)\n",
    "# train_df[\"misc_feature\"].isna().sum()"
   ]
  }
 ],
 "metadata": {
  "kernelspec": {
   "display_name": "Python [conda env:dsi]",
   "language": "python",
   "name": "conda-env-dsi-py"
  },
  "language_info": {
   "codemirror_mode": {
    "name": "ipython",
    "version": 3
   },
   "file_extension": ".py",
   "mimetype": "text/x-python",
   "name": "python",
   "nbconvert_exporter": "python",
   "pygments_lexer": "ipython3",
   "version": "3.7.6"
  }
 },
 "nbformat": 4,
 "nbformat_minor": 4
}
